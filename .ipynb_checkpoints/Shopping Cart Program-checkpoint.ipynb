{
 "cells": [
  {
   "cell_type": "code",
   "execution_count": null,
   "id": "90ef70ce",
   "metadata": {},
   "outputs": [],
   "source": [
    "# Develop a versatile shopping cart program with the following functionalities:\n",
    "\n",
    "# (X) Upon starting the program, initialize an empty list or dictionary to represent the shopping cart. \n",
    "   \n",
    "# (X) Present a user-friendly menu that includes the following options:\n",
    "#    (X) # to create menu - ask for user input, & create while loop saying while user input != quit \n",
    "#   (X)  # Allow users to add items to the shopping cart. \n",
    "#      (X)   # For each item, prompt the user to input a name, quantity, and price. \n",
    "#        (X) # Store these details and add it to the shopping cart. \n",
    "         \n",
    "        \n",
    "#   (X)  # Provide the ability to remove items from the shopping cart. \n",
    "#      (X)   # Prompt the user to input the name of the item they wish to remove. \n",
    "#        (X) # Ensure to handle cases where the item is not found in the cart.\n",
    "#   ( )  # Display the current contents of the shopping cart. \n",
    "#     ( )    # Include the name, quantity, and price of each item, as well as a running total of the cost.\n",
    "#    (X) # Allow the user to exit the program. \n",
    "#       ( )  #Upon quitting, print a summary of all items in the cart, including their details and the total cost.\n",
    "#     (X) # Implement a loop that continuously prompts the user for their choice until they decide to quit.\n",
    "#     # Include appropriate error handling to deal with scenarios such as invalid input when adding or removing items.\n",
    "\n",
    "# ( )Ensure that the program provides a clear and user-friendly experience. \n",
    "     # ( )   # Include informative messages and prompts to guide the user through each step.\n",
    "# ( )After the user quits, display a friendly closing message along with the final list of items \n",
    "   # ( ) # in the cart and the total cost.\n",
    "    \n",
    "\n",
    "    \n",
    "\n"
   ]
  },
  {
   "cell_type": "code",
   "execution_count": 92,
   "id": "b34fe753",
   "metadata": {},
   "outputs": [],
   "source": [
    "# V2\n",
    "\n",
    "my_cart = {}\n",
    "\n",
    "def open_cart():\n",
    "    \n",
    "    welcome_menu = input('What would you like to do? Add, Remove, Show, Clear or Quit?\\n').lower()\n",
    "    \n",
    "    # MAIN MENU LOOP \n",
    "    while welcome_menu != 'quit':\n",
    "        \n",
    "        # ADD \n",
    "        if welcome_menu == 'add':\n",
    "            item = input('What item are you adding?\\n').lower()\n",
    "            cost = input('What is the cost per item?\\n').lower()\n",
    "            amount = input('What is the quantity you are adding?\\n').lower()\n",
    "            #store details\n",
    "            my_cart[item] = {'item':item, 'cost':cost, 'amount':amount}\n",
    "            welcome_menu = input('What would you like to do? Add, Remove, Show, Clear or Quit?\\n').lower()\n",
    "        \n",
    "        # REMOVE \n",
    "        if welcome_menu == 'remove':\n",
    "            rm_item = input('What item would you like to remove?').lower()\n",
    "            for item in my_cart.keys():\n",
    "                if item == rm_item:\n",
    "                    x = False\n",
    "                else:\n",
    "                    x = True\n",
    "            if x == False:\n",
    "                del my_cart[item]\n",
    "            if x == True:\n",
    "                print('That item is not in your cart.\\n')\n",
    "            welcome_menu = input('What would you like to do? Add, Remove, Show, Clear or Quit?\\n').lower()\n",
    "       \n",
    "    # SHOW\n",
    "        if welcome_menu == 'show':\n",
    "            print('Here is your current cart!')\n",
    "            for val in my_cart.values():\n",
    "                print(f\"{val.get('item').title()} @ ${val.get('cost')}/ea. - Qty:{val.get('amount')}\")\n",
    "        welcome_menu = input('What would you like to do? Add, Remove, Show, Clear or Quit?\\n').lower()       \n",
    "                \n",
    "            \n",
    "        # CLEAR\n",
    "        if welcome_menu == 'clear':\n",
    "            my_cart.clear()\n",
    "            print('Your cart is cleared.')\n",
    "        welcome_menu = input('What would you like to do? Add, Remove, Show, Clear or Quit?\\n').lower()\n",
    "        \n",
    "        # QUIT \n",
    "        if welcome_menu == 'quit':\n",
    "            print(my_cart)\n",
    "            print(type(my_cart))\n",
    "        \n",
    "       "
   ]
  },
  {
   "cell_type": "code",
   "execution_count": 93,
   "id": "e400f0fa",
   "metadata": {},
   "outputs": [
    {
     "name": "stdout",
     "output_type": "stream",
     "text": [
      "What would you like to do? Add, Remove, Show, Clear or Quit?\n",
      "Ad\n",
      "What would you like to do? Add, Remove, Show, Clear or Quit?\n",
      "Add\n",
      "What would you like to do? Add, Remove, Show, Clear or Quit?\n",
      "add\n"
     ]
    },
    {
     "ename": "KeyboardInterrupt",
     "evalue": "Interrupted by user",
     "output_type": "error",
     "traceback": [
      "\u001b[0;31m---------------------------------------------------------------------------\u001b[0m",
      "\u001b[0;31mKeyboardInterrupt\u001b[0m                         Traceback (most recent call last)",
      "Cell \u001b[0;32mIn[93], line 1\u001b[0m\n\u001b[0;32m----> 1\u001b[0m open_cart()\n",
      "Cell \u001b[0;32mIn[92], line 47\u001b[0m, in \u001b[0;36mopen_cart\u001b[0;34m()\u001b[0m\n\u001b[1;32m     45\u001b[0m     my_cart\u001b[38;5;241m.\u001b[39mclear()\n\u001b[1;32m     46\u001b[0m     \u001b[38;5;28mprint\u001b[39m(\u001b[38;5;124m'\u001b[39m\u001b[38;5;124mYour cart is cleared.\u001b[39m\u001b[38;5;124m'\u001b[39m)\n\u001b[0;32m---> 47\u001b[0m welcome_menu \u001b[38;5;241m=\u001b[39m \u001b[38;5;28minput\u001b[39m(\u001b[38;5;124m'\u001b[39m\u001b[38;5;124mWhat would you like to do? Add, Remove, Show, Clear or Quit?\u001b[39m\u001b[38;5;130;01m\\n\u001b[39;00m\u001b[38;5;124m'\u001b[39m)\u001b[38;5;241m.\u001b[39mlower()\n\u001b[1;32m     49\u001b[0m \u001b[38;5;66;03m# QUIT \u001b[39;00m\n\u001b[1;32m     50\u001b[0m \u001b[38;5;28;01mif\u001b[39;00m welcome_menu \u001b[38;5;241m==\u001b[39m \u001b[38;5;124m'\u001b[39m\u001b[38;5;124mquit\u001b[39m\u001b[38;5;124m'\u001b[39m:\n",
      "File \u001b[0;32m~/anaconda3/lib/python3.11/site-packages/ipykernel/kernelbase.py:1202\u001b[0m, in \u001b[0;36mKernel.raw_input\u001b[0;34m(self, prompt)\u001b[0m\n\u001b[1;32m   1200\u001b[0m     msg \u001b[38;5;241m=\u001b[39m \u001b[38;5;124m\"\u001b[39m\u001b[38;5;124mraw_input was called, but this frontend does not support input requests.\u001b[39m\u001b[38;5;124m\"\u001b[39m\n\u001b[1;32m   1201\u001b[0m     \u001b[38;5;28;01mraise\u001b[39;00m StdinNotImplementedError(msg)\n\u001b[0;32m-> 1202\u001b[0m \u001b[38;5;28;01mreturn\u001b[39;00m \u001b[38;5;28mself\u001b[39m\u001b[38;5;241m.\u001b[39m_input_request(\n\u001b[1;32m   1203\u001b[0m     \u001b[38;5;28mstr\u001b[39m(prompt),\n\u001b[1;32m   1204\u001b[0m     \u001b[38;5;28mself\u001b[39m\u001b[38;5;241m.\u001b[39m_parent_ident[\u001b[38;5;124m\"\u001b[39m\u001b[38;5;124mshell\u001b[39m\u001b[38;5;124m\"\u001b[39m],\n\u001b[1;32m   1205\u001b[0m     \u001b[38;5;28mself\u001b[39m\u001b[38;5;241m.\u001b[39mget_parent(\u001b[38;5;124m\"\u001b[39m\u001b[38;5;124mshell\u001b[39m\u001b[38;5;124m\"\u001b[39m),\n\u001b[1;32m   1206\u001b[0m     password\u001b[38;5;241m=\u001b[39m\u001b[38;5;28;01mFalse\u001b[39;00m,\n\u001b[1;32m   1207\u001b[0m )\n",
      "File \u001b[0;32m~/anaconda3/lib/python3.11/site-packages/ipykernel/kernelbase.py:1245\u001b[0m, in \u001b[0;36mKernel._input_request\u001b[0;34m(self, prompt, ident, parent, password)\u001b[0m\n\u001b[1;32m   1242\u001b[0m \u001b[38;5;28;01mexcept\u001b[39;00m \u001b[38;5;167;01mKeyboardInterrupt\u001b[39;00m:\n\u001b[1;32m   1243\u001b[0m     \u001b[38;5;66;03m# re-raise KeyboardInterrupt, to truncate traceback\u001b[39;00m\n\u001b[1;32m   1244\u001b[0m     msg \u001b[38;5;241m=\u001b[39m \u001b[38;5;124m\"\u001b[39m\u001b[38;5;124mInterrupted by user\u001b[39m\u001b[38;5;124m\"\u001b[39m\n\u001b[0;32m-> 1245\u001b[0m     \u001b[38;5;28;01mraise\u001b[39;00m \u001b[38;5;167;01mKeyboardInterrupt\u001b[39;00m(msg) \u001b[38;5;28;01mfrom\u001b[39;00m \u001b[38;5;28;01mNone\u001b[39;00m\n\u001b[1;32m   1246\u001b[0m \u001b[38;5;28;01mexcept\u001b[39;00m \u001b[38;5;167;01mException\u001b[39;00m:\n\u001b[1;32m   1247\u001b[0m     \u001b[38;5;28mself\u001b[39m\u001b[38;5;241m.\u001b[39mlog\u001b[38;5;241m.\u001b[39mwarning(\u001b[38;5;124m\"\u001b[39m\u001b[38;5;124mInvalid Message:\u001b[39m\u001b[38;5;124m\"\u001b[39m, exc_info\u001b[38;5;241m=\u001b[39m\u001b[38;5;28;01mTrue\u001b[39;00m)\n",
      "\u001b[0;31mKeyboardInterrupt\u001b[0m: Interrupted by user"
     ]
    }
   ],
   "source": [
    "open_cart()"
   ]
  },
  {
   "cell_type": "code",
   "execution_count": null,
   "id": "862fcefe",
   "metadata": {},
   "outputs": [],
   "source": []
  },
  {
   "cell_type": "code",
   "execution_count": null,
   "id": "04b9d402",
   "metadata": {},
   "outputs": [],
   "source": []
  },
  {
   "cell_type": "code",
   "execution_count": null,
   "id": "e8f64bf7",
   "metadata": {},
   "outputs": [],
   "source": []
  },
  {
   "cell_type": "code",
   "execution_count": null,
   "id": "9e769b7b",
   "metadata": {},
   "outputs": [],
   "source": []
  },
  {
   "cell_type": "code",
   "execution_count": null,
   "id": "72fb4330",
   "metadata": {},
   "outputs": [],
   "source": []
  },
  {
   "cell_type": "code",
   "execution_count": null,
   "id": "5858ed18",
   "metadata": {},
   "outputs": [],
   "source": [
    "   # SHOW\n",
    "def show_cart():\n",
    "    if welcome_menu == 'show':\n"
   ]
  },
  {
   "cell_type": "code",
   "execution_count": 232,
   "id": "4fa8c68a",
   "metadata": {},
   "outputs": [],
   "source": [
    "# V1\n",
    "\n",
    "\n",
    "# MAIN FUNCTION/PROGRAM \n",
    "# def open_shopping_cart():\n",
    "#     my_cart = dict()\n",
    "#     print('Hello! Welcome to your shopping cart.\\n')\n",
    "#     welcome_menu = input('What would you like to do? Add, Remove, Show, Clear, or Quit?\\n').lower()\n",
    "#     while welcome_menu != 'quit':\n",
    "#         if welcome_menu == 'add':\n",
    "#             item = input('What item are you adding?\\n').lower()\n",
    "#             cost = input('What is the cost per item?\\n').lower()\n",
    "#             amount = input('What is the quantity you are adding?\\n').lower()\n",
    "#             my_cart['item'] = 'amount'\n",
    "#             print(f\"{item.title()} x{amount} added!\")\n",
    "#             welcome_menu = input('What would you like to do? Add, Remove, Show, Clear, or Quit?\\n').lower()\n",
    "#             continue\n",
    "#         if welcome_menu == 'quit':\n",
    "#             quit()\n",
    "#         else:\n",
    "#             print('***Please enter one of the available menu options.***\\n')\n",
    "#             open_shopping_cart()\n",
    "    "
   ]
  },
  {
   "cell_type": "code",
   "execution_count": null,
   "id": "dab6082a",
   "metadata": {},
   "outputs": [],
   "source": [
    "\n",
    "    # Extra Cred Ideas:\n",
    "    # - Apply Tax\n",
    "    # - Offer Menu of items \n",
    "    # - Pre-establish prices per item ? \n",
    "    \n",
    "# =================================================="
   ]
  }
 ],
 "metadata": {
  "kernelspec": {
   "display_name": "Python 3 (ipykernel)",
   "language": "python",
   "name": "python3"
  },
  "language_info": {
   "codemirror_mode": {
    "name": "ipython",
    "version": 3
   },
   "file_extension": ".py",
   "mimetype": "text/x-python",
   "name": "python",
   "nbconvert_exporter": "python",
   "pygments_lexer": "ipython3",
   "version": "3.11.5"
  }
 },
 "nbformat": 4,
 "nbformat_minor": 5
}
