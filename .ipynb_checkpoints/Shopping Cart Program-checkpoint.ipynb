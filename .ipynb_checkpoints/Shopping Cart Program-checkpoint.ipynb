{
 "cells": [
  {
   "cell_type": "code",
   "execution_count": null,
   "id": "90ef70ce",
   "metadata": {},
   "outputs": [],
   "source": [
    "# Develop a versatile shopping cart program with the following functionalities:\n",
    "\n",
    "# (X) Upon starting the program, initialize an empty list or dictionary to represent the shopping cart. \n",
    "    # my_cart = {} \n",
    "    # item_costs = {}\n",
    "# (X) Present a user-friendly menu that includes the following options:\n",
    "    # to create menu - ask for user input, & create while loop saying while user input != quit \n",
    "    # Allow users to add items to the shopping cart. \n",
    "        # For each item, prompt the user to input a name, quantity, and price. \n",
    "        # Store these details and add it to the shopping cart. \n",
    "            # add key value pair to my_cart for name and quantity / add key value pair to item_costs for name(copy) and price\n",
    "        \n",
    "    # Provide the ability to remove items from the shopping cart. \n",
    "        # Prompt the user to input the name of the item they wish to remove. \n",
    "        # Ensure to handle cases where the item is not found in the cart.\n",
    "    # Display the current contents of the shopping cart. \n",
    "        # Include the name, quantity, and price of each item, as well as a running total of the cost.\n",
    "    # Allow the user to exit the program. \n",
    "        #Upon quitting, print a summary of all items in the cart, including their details and the total cost.\n",
    "    # Implement a loop that continuously prompts the user for their choice until they decide to quit.\n",
    "    # Include appropriate error handling to deal with scenarios such as invalid input when adding or removing items.\n",
    "\n",
    "# Ensure that the program provides a clear and user-friendly experience. \n",
    "        # Include informative messages and prompts to guide the user through each step.\n",
    "# After the user quits, display a friendly closing message along with the final list of items \n",
    "    # in the cart and the total cost.\n",
    "    \n",
    "\n",
    "    \n",
    "\n"
   ]
  },
  {
   "cell_type": "code",
   "execution_count": 342,
   "id": "b34fe753",
   "metadata": {},
   "outputs": [],
   "source": [
    "# V2\n",
    "\n",
    "my_cart = {}\n",
    "\n",
    "def open_cart():\n",
    "    \n",
    "    welcome_menu = input('What would you like to do? Add, Remove, Show, Clear or Quit?\\n').lower()\n",
    "    \n",
    "    # MAIN MENU LOOP \n",
    "    while welcome_menu != 'quit':\n",
    "        \n",
    "        # ADD \n",
    "        if welcome_menu == 'add':\n",
    "            item = input('What item are you adding?\\n').lower()\n",
    "            cost = input('What is the cost per item?\\n').lower()\n",
    "            amount = input('What is the quantity you are adding?\\n').lower()\n",
    "            #store details\n",
    "            my_cart[item] = {'item':item, 'cost':cost, 'amount':amount}\n",
    "            welcome_menu = input('What would you like to do? Add, Remove, Show, Clear or Quit?\\n').lower()\n",
    "        \n",
    "        # REMOVE\n",
    "        if welcome_menu == 'remove':\n",
    "            rm_item = input('What item would you like to remove?').lower()\n",
    "            for item in my_cart.keys():\n",
    "                if item == rm_item:\n",
    "                    x = False\n",
    "            if x == False:\n",
    "                del my_cart[item]\n",
    "            welcome_menu = input('What would you like to do? Add, Remove, Show, Clear or Quit?\\n').lower()\n",
    "        \n",
    "        # QUIT\n",
    "        if welcome_menu == 'quit':\n",
    "            print(my_cart)\n",
    "            print(type(my_cart))\n",
    "            \n",
    "            \n",
    "        \n",
    "        "
   ]
  },
  {
   "cell_type": "code",
   "execution_count": 343,
   "id": "c1523b84",
   "metadata": {},
   "outputs": [
    {
     "name": "stdout",
     "output_type": "stream",
     "text": [
      "What would you like to do? Add, Remove, Show, Clear or Quit?\n",
      "Add\n",
      "What item are you adding?\n",
      "apple\n",
      "What is the cost per item?\n",
      "1\n",
      "What is the quantity you are adding?\n",
      "5\n",
      "What would you like to do? Add, Remove, Show, Clear or Quit?\n",
      "Add\n",
      "What item are you adding?\n",
      "banana\n",
      "What is the cost per item?\n",
      "2\n",
      "What is the quantity you are adding?\n",
      "6\n",
      "What would you like to do? Add, Remove, Show, Clear or Quit?\n",
      "Add\n",
      "What item are you adding?\n",
      "Orange\n",
      "What is the cost per item?\n",
      "3.00\n",
      "What is the quantity you are adding?\n",
      "5\n",
      "What would you like to do? Add, Remove, Show, Clear or Quit?\n",
      "remove\n",
      "What item would you like to remove?orange\n",
      "What would you like to do? Add, Remove, Show, Clear or Quit?\n",
      "quit\n",
      "{'apple': {'item': 'apple', 'cost': '1', 'amount': '5'}, 'banana': {'item': 'banana', 'cost': '2', 'amount': '6'}}\n",
      "<class 'dict'>\n"
     ]
    }
   ],
   "source": [
    "# TEST\n",
    "open_cart()"
   ]
  },
  {
   "cell_type": "code",
   "execution_count": null,
   "id": "8657f743",
   "metadata": {},
   "outputs": [],
   "source": [
    "if welcome_menu == 'remove':\n",
    "            # input for item the user wants to remove\n",
    "            rm_item = input('Which item would you like to remove?').lower()\n",
    "            # for each list in dictionary\n",
    "            \n",
    "                            "
   ]
  },
  {
   "cell_type": "code",
   "execution_count": null,
   "id": "616a0705",
   "metadata": {},
   "outputs": [],
   "source": [
    "my_cart.pop()"
   ]
  },
  {
   "cell_type": "code",
   "execution_count": null,
   "id": "d4c98451",
   "metadata": {},
   "outputs": [],
   "source": []
  },
  {
   "cell_type": "code",
   "execution_count": null,
   "id": "5a3e2c36",
   "metadata": {},
   "outputs": [],
   "source": [
    "# REMEMBER: This is how inputs are stored in the dictionary \n",
    "\n",
    "# dict_items(\n",
    "# [(1, {'item': 'apple', 'cost': '1', 'amount': '6'}), ...\n",
    "# ...(2, {'item': 'banana', 'cost': '1.25', 'amount': '6'})]\n",
    "# )"
   ]
  },
  {
   "cell_type": "code",
   "execution_count": null,
   "id": "01977700",
   "metadata": {},
   "outputs": [],
   "source": [
    "# scratch    for ea_list in dict1:\n",
    "            \n",
    "                for x in ea_list:\n",
    "                    if x[1]['item'] == rm_item:\n",
    "                        dict1.pop('item')"
   ]
  },
  {
   "cell_type": "code",
   "execution_count": 232,
   "id": "ea7094b2",
   "metadata": {},
   "outputs": [],
   "source": [
    "# V1\n",
    "\n",
    "\n",
    "# MAIN FUNCTION/PROGRAM \n",
    "def open_shopping_cart():\n",
    "    my_cart = dict()\n",
    "    print('Hello! Welcome to your shopping cart.\\n')\n",
    "    welcome_menu = input('What would you like to do? Add, Remove, Show, Clear, or Quit?\\n').lower()\n",
    "    while welcome_menu != 'quit':\n",
    "        if welcome_menu == 'add':\n",
    "            item = input('What item are you adding?\\n').lower()\n",
    "            cost = input('What is the cost per item?\\n').lower()\n",
    "            amount = input('What is the quantity you are adding?\\n').lower()\n",
    "            my_cart['item'] = 'amount'\n",
    "            print(f\"{item.title()} x{amount} added!\")\n",
    "            welcome_menu = input('What would you like to do? Add, Remove, Show, Clear, or Quit?\\n').lower()\n",
    "            continue\n",
    "        if welcome_menu == 'quit':\n",
    "            quit()\n",
    "        else:\n",
    "            print('***Please enter one of the available menu options.***\\n')\n",
    "            open_shopping_cart()\n",
    "    "
   ]
  },
  {
   "cell_type": "code",
   "execution_count": null,
   "id": "14fb151b",
   "metadata": {},
   "outputs": [],
   "source": [
    "# REMOVE FUNCTION\n",
    "\n",
    "#    def remove():\n",
    "#        rm_item = input('Which item would you like to remove?').lower()\n",
    "#        for item in my_cart.items():\n",
    "#          if item == rm_item:\n",
    "#               my_cart.pop('item')\n",
    "#               print(f\"You have removed {item}.\")\n",
    "#               main_menu = input('What would you like to do? Add, Remove, Show, Clear, or Quit?\\n').lower()\n",
    "#           else:\n",
    "#       print('That item is not in your cart. Please retry.')\n",
    "#       main_menu = input('What would you like to do? Add, Remove, Show, Clear, or Quit?\\n').lower()"
   ]
  },
  {
   "cell_type": "code",
   "execution_count": null,
   "id": "3780869e",
   "metadata": {},
   "outputs": [],
   "source": [
    "\n",
    "    # Extra Cred Ideas:\n",
    "    # - Apply Tax\n",
    "    # - Offer Menu of items \n",
    "    # - Pre-establish prices per item ? \n",
    "    \n",
    "# =================================================="
   ]
  }
 ],
 "metadata": {
  "kernelspec": {
   "display_name": "Python 3 (ipykernel)",
   "language": "python",
   "name": "python3"
  },
  "language_info": {
   "codemirror_mode": {
    "name": "ipython",
    "version": 3
   },
   "file_extension": ".py",
   "mimetype": "text/x-python",
   "name": "python",
   "nbconvert_exporter": "python",
   "pygments_lexer": "ipython3",
   "version": "3.11.5"
  }
 },
 "nbformat": 4,
 "nbformat_minor": 5
}
