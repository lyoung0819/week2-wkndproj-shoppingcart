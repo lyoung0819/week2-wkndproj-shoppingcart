{
 "cells": [
  {
   "cell_type": "code",
   "execution_count": null,
   "id": "90ef70ce",
   "metadata": {},
   "outputs": [],
   "source": [
    "# Develop a versatile shopping cart program with the following functionalities:\n",
    "\n",
    "# (X) Upon starting the program, initialize an empty list or dictionary to represent the shopping cart. \n",
    "# (X) Present a user-friendly menu that includes the following options:\n",
    "    # Allow users to add items to the shopping cart. \n",
    "        # For each item, prompt the user to input a name, quantity, and price. \n",
    "        # Store these details and add it to the shopping cart.\n",
    "    # Provide the ability to remove items from the shopping cart. \n",
    "        # Prompt the user to input the name of the item they wish to remove. \n",
    "        # Ensure to handle cases where the item is not found in the cart.\n",
    "    # Display the current contents of the shopping cart. \n",
    "        # Include the name, quantity, and price of each item, as well as a running total of the cost.\n",
    "    # Allow the user to exit the program. \n",
    "        #Upon quitting, print a summary of all items in the cart, including their details and the total cost.\n",
    "    # Implement a loop that continuously prompts the user for their choice until they decide to quit.\n",
    "    # Include appropriate error handling to deal with scenarios such as invalid input when adding or removing items.\n",
    "\n",
    "# Ensure that the program provides a clear and user-friendly experience. \n",
    "        # Include informative messages and prompts to guide the user through each step.\n",
    "# After the user quits, display a friendly closing message along with the final list of items \n",
    "    # in the cart and the total cost."
   ]
  },
  {
   "cell_type": "code",
   "execution_count": null,
   "id": "4103905f",
   "metadata": {},
   "outputs": [],
   "source": [
    "def open_shopping_cart():\n",
    "    print('Hello! Welcome to your shopping cart.\\n')\n",
    "    my_cart = {}\n",
    "    main_menu = input('What would you like to do? Add, Remove, Show, Clear, or Quit?')\n",
    "    if main_menu == 'Quit':\n",
    "        print('Thank you for using the shopping cart!')\n",
    "        print(my_cart)\n",
    "    elif main_menu == 'Add':\n",
    "        add_item = input('What item are you adding?')\n",
    "        item_cost = input('How much does it cost?')\n",
    "        my_cart[str(add_item)]:str(item_cost)"
   ]
  },
  {
   "cell_type": "code",
   "execution_count": 20,
   "id": "89dde2cf",
   "metadata": {},
   "outputs": [
    {
     "name": "stdout",
     "output_type": "stream",
     "text": [
      "Hello! Welcome to your shopping cart.\n",
      "\n",
      "What would you like to do? Add, Remove, Show, Clear, or Quit?Add\n"
     ]
    },
    {
     "data": {
      "text/plain": [
       "{}"
      ]
     },
     "execution_count": 20,
     "metadata": {},
     "output_type": "execute_result"
    }
   ],
   "source": [
    "open_shopping_cart()\n",
    "\n",
    "def address_book():\n",
    "    print('Welcome to the Address Book!')\n",
    "    book = {}\n",
    "    menu_input = input('What would you like to do today? Add or Quit?')\n",
    "    while menu_input != 'Quit':\n",
    "        name_input = input('Please add a name')\n",
    "        print(f'\\tYou added {name_input}.')\n",
    "        add_input = input('Please add an address')\n",
    "        print (f'\\tYou added {add_input} to {name_input}')\n",
    "        book[str(name_input)] = str(add_input)\n",
    "        menu_input = input('What would you like to do today? Add or Quit?')\n",
    "        if menu_input == 'Quit':\n",
    "            break\n",
    "        else:\n",
    "            print('Sorry, this is not a valid input.')\n",
    "        \n",
    "    print('\\nHere is the information in our address book.\\n')\n",
    "    for name, address in book.items():\n",
    "        print(name, address)\n",
    "        print('='*25)\n",
    "   \n",
    "    print('\\nThank you for using the Address Book!')\n",
    "\n",
    "\n",
    "\n",
    "\n",
    "\n"
   ]
  }
 ],
 "metadata": {
  "kernelspec": {
   "display_name": "Python 3 (ipykernel)",
   "language": "python",
   "name": "python3"
  },
  "language_info": {
   "codemirror_mode": {
    "name": "ipython",
    "version": 3
   },
   "file_extension": ".py",
   "mimetype": "text/x-python",
   "name": "python",
   "nbconvert_exporter": "python",
   "pygments_lexer": "ipython3",
   "version": "3.11.5"
  }
 },
 "nbformat": 4,
 "nbformat_minor": 5
}
