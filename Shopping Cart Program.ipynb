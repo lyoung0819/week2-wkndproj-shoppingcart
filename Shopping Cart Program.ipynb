{
 "cells": [
  {
   "cell_type": "code",
   "execution_count": null,
   "id": "90ef70ce",
   "metadata": {},
   "outputs": [],
   "source": [
    "# Develop a versatile shopping cart program with the following functionalities:\n",
    "\n",
    "# (X) Upon starting the program, initialize an empty list or dictionary to represent the shopping cart. \n",
    "    # my_cart = {} \n",
    "    # item_costs = {}\n",
    "# (X) Present a user-friendly menu that includes the following options:\n",
    "    # to create menu - ask for user input, & create while loop saying while user input != quit \n",
    "    # Allow users to add items to the shopping cart. \n",
    "        # For each item, prompt the user to input a name, quantity, and price. \n",
    "        # Store these details and add it to the shopping cart. \n",
    "            # add key value pair to my_cart for name and quantity / add key value pair to item_costs for name(copy) and price\n",
    "        \n",
    "    # Provide the ability to remove items from the shopping cart. \n",
    "        # Prompt the user to input the name of the item they wish to remove. \n",
    "        # Ensure to handle cases where the item is not found in the cart.\n",
    "    # Display the current contents of the shopping cart. \n",
    "        # Include the name, quantity, and price of each item, as well as a running total of the cost.\n",
    "    # Allow the user to exit the program. \n",
    "        #Upon quitting, print a summary of all items in the cart, including their details and the total cost.\n",
    "    # Implement a loop that continuously prompts the user for their choice until they decide to quit.\n",
    "    # Include appropriate error handling to deal with scenarios such as invalid input when adding or removing items.\n",
    "\n",
    "# Ensure that the program provides a clear and user-friendly experience. \n",
    "        # Include informative messages and prompts to guide the user through each step.\n",
    "# After the user quits, display a friendly closing message along with the final list of items \n",
    "    # in the cart and the total cost.\n",
    "    \n",
    "\n",
    "    \n",
    "\n"
   ]
  },
  {
   "cell_type": "code",
   "execution_count": 350,
   "id": "b34fe753",
   "metadata": {},
   "outputs": [],
   "source": [
    "# V2\n",
    "\n",
    "my_cart = {}\n",
    "\n",
    "def open_cart():\n",
    "    \n",
    "    welcome_menu = input('What would you like to do? Add, Remove, Show, Clear or Quit?\\n').lower()\n",
    "    \n",
    "    # MAIN MENU LOOP \n",
    "    while welcome_menu != 'quit':\n",
    "        \n",
    "        # ADD - WORKS\n",
    "        if welcome_menu == 'add':\n",
    "            item = input('What item are you adding?\\n').lower()\n",
    "            cost = input('What is the cost per item?\\n').lower()\n",
    "            amount = input('What is the quantity you are adding?\\n').lower()\n",
    "            #store details\n",
    "            my_cart[item] = {'item':item, 'cost':cost, 'amount':amount}\n",
    "            welcome_menu = input('What would you like to do? Add, Remove, Show, Clear or Quit?\\n').lower()\n",
    "        \n",
    "        # REMOVE - WORKS\n",
    "        if welcome_menu == 'remove':\n",
    "            rm_item = input('What item would you like to remove?').lower()\n",
    "            for item in my_cart.keys():\n",
    "                if item == rm_item:\n",
    "                    x = False\n",
    "            if x == False:\n",
    "                del my_cart[item]\n",
    "            welcome_menu = input('What would you like to do? Add, Remove, Show, Clear or Quit?\\n').lower()\n",
    "            \n",
    "        # SHOW\n",
    "        if welcome_menu == 'show':\n",
    "            for key, val in my_cart.keys():\n",
    "                \n",
    "                print(element)\n",
    "        \n",
    "        # QUIT \n",
    "        if welcome_menu == 'quit':\n",
    "            print(my_cart)\n",
    "            print(type(my_cart))\n",
    "        \n",
    "       "
   ]
  },
  {
   "cell_type": "code",
   "execution_count": 351,
   "id": "c1523b84",
   "metadata": {},
   "outputs": [
    {
     "name": "stdout",
     "output_type": "stream",
     "text": [
      "What would you like to do? Add, Remove, Show, Clear or Quit?\n",
      "Add\n",
      "What item are you adding?\n",
      "apple\n",
      "What is the cost per item?\n",
      "1\n",
      "What is the quantity you are adding?\n",
      "5\n",
      "What would you like to do? Add, Remove, Show, Clear or Quit?\n",
      "add\n",
      "What item are you adding?\n",
      "orange\n",
      "What is the cost per item?\n",
      "1\n",
      "What is the quantity you are adding?\n",
      "6\n",
      "What would you like to do? Add, Remove, Show, Clear or Quit?\n",
      "show\n"
     ]
    },
    {
     "ename": "TypeError",
     "evalue": "'dict' object is not callable",
     "output_type": "error",
     "traceback": [
      "\u001b[0;31m---------------------------------------------------------------------------\u001b[0m",
      "\u001b[0;31mTypeError\u001b[0m                                 Traceback (most recent call last)",
      "Cell \u001b[0;32mIn[351], line 2\u001b[0m\n\u001b[1;32m      1\u001b[0m \u001b[38;5;66;03m# TEST\u001b[39;00m\n\u001b[0;32m----> 2\u001b[0m open_cart()\n",
      "Cell \u001b[0;32mIn[350], line 33\u001b[0m, in \u001b[0;36mopen_cart\u001b[0;34m()\u001b[0m\n\u001b[1;32m     31\u001b[0m \u001b[38;5;66;03m# SHOW\u001b[39;00m\n\u001b[1;32m     32\u001b[0m \u001b[38;5;28;01mif\u001b[39;00m welcome_menu \u001b[38;5;241m==\u001b[39m \u001b[38;5;124m'\u001b[39m\u001b[38;5;124mshow\u001b[39m\u001b[38;5;124m'\u001b[39m:\n\u001b[0;32m---> 33\u001b[0m     \u001b[38;5;28;01mfor\u001b[39;00m element \u001b[38;5;129;01min\u001b[39;00m my_cart():\n\u001b[1;32m     34\u001b[0m         element\u001b[38;5;241m.\u001b[39msplit()\n\u001b[1;32m     35\u001b[0m         \u001b[38;5;28mprint\u001b[39m(element)\n",
      "\u001b[0;31mTypeError\u001b[0m: 'dict' object is not callable"
     ]
    }
   ],
   "source": [
    "# TEST\n",
    "open_cart()"
   ]
  },
  {
   "cell_type": "code",
   "execution_count": null,
   "id": "0a6ddd29",
   "metadata": {},
   "outputs": [],
   "source": []
  },
  {
   "cell_type": "code",
   "execution_count": null,
   "id": "5858ed18",
   "metadata": {},
   "outputs": [],
   "source": []
  },
  {
   "cell_type": "code",
   "execution_count": 232,
   "id": "4fa8c68a",
   "metadata": {},
   "outputs": [],
   "source": [
    "# V1\n",
    "\n",
    "\n",
    "# MAIN FUNCTION/PROGRAM \n",
    "# def open_shopping_cart():\n",
    "#     my_cart = dict()\n",
    "#     print('Hello! Welcome to your shopping cart.\\n')\n",
    "#     welcome_menu = input('What would you like to do? Add, Remove, Show, Clear, or Quit?\\n').lower()\n",
    "#     while welcome_menu != 'quit':\n",
    "#         if welcome_menu == 'add':\n",
    "#             item = input('What item are you adding?\\n').lower()\n",
    "#             cost = input('What is the cost per item?\\n').lower()\n",
    "#             amount = input('What is the quantity you are adding?\\n').lower()\n",
    "#             my_cart['item'] = 'amount'\n",
    "#             print(f\"{item.title()} x{amount} added!\")\n",
    "#             welcome_menu = input('What would you like to do? Add, Remove, Show, Clear, or Quit?\\n').lower()\n",
    "#             continue\n",
    "#         if welcome_menu == 'quit':\n",
    "#             quit()\n",
    "#         else:\n",
    "#             print('***Please enter one of the available menu options.***\\n')\n",
    "#             open_shopping_cart()\n",
    "    "
   ]
  },
  {
   "cell_type": "code",
   "execution_count": null,
   "id": "dab6082a",
   "metadata": {},
   "outputs": [],
   "source": [
    "\n",
    "    # Extra Cred Ideas:\n",
    "    # - Apply Tax\n",
    "    # - Offer Menu of items \n",
    "    # - Pre-establish prices per item ? \n",
    "    \n",
    "# =================================================="
   ]
  }
 ],
 "metadata": {
  "kernelspec": {
   "display_name": "Python 3 (ipykernel)",
   "language": "python",
   "name": "python3"
  },
  "language_info": {
   "codemirror_mode": {
    "name": "ipython",
    "version": 3
   },
   "file_extension": ".py",
   "mimetype": "text/x-python",
   "name": "python",
   "nbconvert_exporter": "python",
   "pygments_lexer": "ipython3",
   "version": "3.11.5"
  }
 },
 "nbformat": 4,
 "nbformat_minor": 5
}
