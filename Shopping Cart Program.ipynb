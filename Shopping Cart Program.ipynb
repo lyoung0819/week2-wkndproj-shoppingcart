{
 "cells": [
  {
   "cell_type": "code",
   "execution_count": null,
   "id": "90ef70ce",
   "metadata": {},
   "outputs": [],
   "source": [
    "# Develop a versatile shopping cart program with the following functionalities:\n",
    "\n",
    "# (X) Upon starting the program, initialize an empty list or dictionary to represent the shopping cart. \n",
    "# (X) Present a user-friendly menu that includes the following options:\n",
    "    # Allow users to add items to the shopping cart. \n",
    "        # For each item, prompt the user to input a name, quantity, and price. \n",
    "        # Store these details and add it to the shopping cart.\n",
    "    # Provide the ability to remove items from the shopping cart. \n",
    "        # Prompt the user to input the name of the item they wish to remove. \n",
    "        # Ensure to handle cases where the item is not found in the cart.\n",
    "    # Display the current contents of the shopping cart. \n",
    "        # Include the name, quantity, and price of each item, as well as a running total of the cost.\n",
    "    # Allow the user to exit the program. \n",
    "        #Upon quitting, print a summary of all items in the cart, including their details and the total cost.\n",
    "    # Implement a loop that continuously prompts the user for their choice until they decide to quit.\n",
    "    # Include appropriate error handling to deal with scenarios such as invalid input when adding or removing items.\n",
    "\n",
    "# Ensure that the program provides a clear and user-friendly experience. \n",
    "        # Include informative messages and prompts to guide the user through each step.\n",
    "# After the user quits, display a friendly closing message along with the final list of items \n",
    "    # in the cart and the total cost.\n",
    "    \n",
    "    \n",
    "# Address book ex\n",
    "\n",
    "# def address_book():\n",
    "#    print('Welcome to the Address Book!')\n",
    " #   book = {}\n",
    " #  menu_input = input('What would you like to do today? Add or Quit?')\n",
    "  \n",
    "#while menu_input != 'Quit':\n",
    "        name_input = input('Please add a name')\n",
    "        print(f'\\tYou added {name_input}.')\n",
    "        add_input = input('Please add an address')\n",
    "        print (f'\\tYou added {add_input} to {name_input}')\n",
    "        book[str(name_input)] = str(add_input)\n",
    "        menu_input = input('What would you like to do today? Add or Quit?')\n",
    "        if menu_input == 'Quit':\n",
    "            break\n",
    "        else:\n",
    "            print('Sorry, this is not a valid input.')\n",
    "        \n",
    "    print('\\nHere is the information in our address book.\\n')\n",
    "    for name, address in book.items():\n",
    "        print(name, address)\n",
    "        print('='*25)\n",
    "   \n",
    "    print('\\nThank you for using the Address Book!')\n",
    "\n",
    "    \n",
    "# for loop thru dict & unpacking pairs 'Show' \n",
    "#unpacking\n",
    "for name, address in d3.items():\n",
    "    print(name, ':', address)\n",
    "    \n",
    "             #need this somewhere   total_cost = float(cost)*float(amount)\n",
    "       # print(f\"{item.title()} x {amount} = ${dollar_amount:.2f}\")\n",
    "          #  total_cost = float(cost)*float(amount)\n",
    "         #   my_cart[item]:total_cost\n",
    "          #  main_menu = input('What would you like to do? Add, Remove, Show, Clear, or Quit?\\n')\n",
    "  #  print(my_cart)\n",
    "# for item in main_menu:\n",
    "                my_cart[item] = amount\n",
    "                    total_cost = float(cost)*float(amount)\n",
    "\n",
    "                    dollar_amount = float(total_cost)\n"
   ]
  },
  {
   "cell_type": "code",
   "execution_count": 110,
   "id": "3f24e9ed",
   "metadata": {},
   "outputs": [
    {
     "ename": "IndentationError",
     "evalue": "unexpected indent (3548842419.py, line 17)",
     "output_type": "error",
     "traceback": [
      "\u001b[0;36m  Cell \u001b[0;32mIn[110], line 17\u001b[0;36m\u001b[0m\n\u001b[0;31m    if rm_item = item:\u001b[0m\n\u001b[0m    ^\u001b[0m\n\u001b[0;31mIndentationError\u001b[0m\u001b[0;31m:\u001b[0m unexpected indent\n"
     ]
    }
   ],
   "source": [
    "def open_shopping_cart():\n",
    "    print('Hello! Welcome to your shopping cart.\\n')\n",
    "    my_cart = dict()\n",
    "    \n",
    "    def user_input(*items):\n",
    "        main_menu = input('What would you like to do? Add, Remove, Show, Clear, or Quit?\\n').lower()\n",
    "        while main_menu != 'quit':\n",
    "            if main_menu == 'add':\n",
    "                item = input('What item are you adding?\\n').lower()\n",
    "                cost = input('What is the cost per item?\\n').lower()\n",
    "                amount = input('What is the quantity you are adding?\\n').lower()\n",
    "                my_cart['item'] = 'amount'\n",
    "                main_menu = input('What would you like to do? Add, Remove, Show, Clear, or Quit?\\n').lower()\n",
    "                \n",
    "            if main_menu == 'remove':\n",
    "                rm_item = input('Which item would you like to remove?').lower()\n",
    "                    if rm_item = item:\n",
    "                        my_cart.pop('item', 'That item is not in your cart.')\n",
    "                # dict.pop('key')\n",
    "                \n",
    "            if main_menu == 'show':\n",
    "                \n",
    "            \n",
    "            \n",
    "            if main_menu == 'clear':\n",
    "                \n",
    "                \n",
    "            if main_menu == 'quit':\n",
    "                print('Here is your receipt. Thank you for using the Shopping Cart!')\n",
    "                \n",
    "            else: \n",
    "                print('Please enter one of the available menu options.')\n",
    "                main_menu = input('What would you like to do? Add, Remove, Show, Clear, or Quit?\\n').lower()\n",
    "        "
   ]
  },
  {
   "cell_type": "code",
   "execution_count": 107,
   "id": "9f1a7f84",
   "metadata": {},
   "outputs": [
    {
     "name": "stdout",
     "output_type": "stream",
     "text": [
      "Hello! Welcome to your shopping cart.\n",
      "\n",
      "What would you like to do? Add, Remove, Show, Clear, or Quit?\n",
      "add\n",
      "What item are you adding?\n",
      "olives\n",
      "How much does it cost?\n",
      "4\n",
      "How many are you adding?\n",
      "1\n",
      "What would you like to do? Add, Remove, Show, Clear, or Quit?\n",
      "apple\n"
     ]
    },
    {
     "ename": "KeyboardInterrupt",
     "evalue": "",
     "output_type": "error",
     "traceback": [
      "\u001b[0;31m---------------------------------------------------------------------------\u001b[0m",
      "\u001b[0;31mKeyboardInterrupt\u001b[0m                         Traceback (most recent call last)",
      "Cell \u001b[0;32mIn[107], line 1\u001b[0m\n\u001b[0;32m----> 1\u001b[0m open_shopping_cart()\n",
      "Cell \u001b[0;32mIn[106], line 4\u001b[0m, in \u001b[0;36mopen_shopping_cart\u001b[0;34m(*items)\u001b[0m\n\u001b[1;32m      2\u001b[0m \u001b[38;5;28mprint\u001b[39m(\u001b[38;5;124m'\u001b[39m\u001b[38;5;124mHello! Welcome to your shopping cart.\u001b[39m\u001b[38;5;130;01m\\n\u001b[39;00m\u001b[38;5;124m'\u001b[39m)\n\u001b[1;32m      3\u001b[0m main_menu \u001b[38;5;241m=\u001b[39m \u001b[38;5;28minput\u001b[39m(\u001b[38;5;124m'\u001b[39m\u001b[38;5;124mWhat would you like to do? Add, Remove, Show, Clear, or Quit?\u001b[39m\u001b[38;5;130;01m\\n\u001b[39;00m\u001b[38;5;124m'\u001b[39m)\u001b[38;5;241m.\u001b[39mlower()\n\u001b[0;32m----> 4\u001b[0m \u001b[38;5;28;01mwhile\u001b[39;00m main_menu \u001b[38;5;241m!=\u001b[39m \u001b[38;5;124m'\u001b[39m\u001b[38;5;124mquit\u001b[39m\u001b[38;5;124m'\u001b[39m:\n\u001b[1;32m      5\u001b[0m     my_cart \u001b[38;5;241m=\u001b[39m \u001b[38;5;28mdict\u001b[39m()\n\u001b[1;32m      6\u001b[0m     \u001b[38;5;28;01mif\u001b[39;00m main_menu \u001b[38;5;241m==\u001b[39m \u001b[38;5;124m'\u001b[39m\u001b[38;5;124madd\u001b[39m\u001b[38;5;124m'\u001b[39m:\n",
      "\u001b[0;31mKeyboardInterrupt\u001b[0m: "
     ]
    }
   ],
   "source": [
    "open_shopping_cart()"
   ]
  },
  {
   "cell_type": "code",
   "execution_count": null,
   "id": "4103905f",
   "metadata": {},
   "outputs": [],
   "source": []
  }
 ],
 "metadata": {
  "kernelspec": {
   "display_name": "Python 3 (ipykernel)",
   "language": "python",
   "name": "python3"
  },
  "language_info": {
   "codemirror_mode": {
    "name": "ipython",
    "version": 3
   },
   "file_extension": ".py",
   "mimetype": "text/x-python",
   "name": "python",
   "nbconvert_exporter": "python",
   "pygments_lexer": "ipython3",
   "version": "3.11.5"
  }
 },
 "nbformat": 4,
 "nbformat_minor": 5
}
