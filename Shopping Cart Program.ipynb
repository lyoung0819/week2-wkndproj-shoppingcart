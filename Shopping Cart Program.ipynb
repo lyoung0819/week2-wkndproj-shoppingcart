{
 "cells": [
  {
   "cell_type": "code",
   "execution_count": null,
   "id": "90ef70ce",
   "metadata": {},
   "outputs": [],
   "source": [
    "# Develop a versatile shopping cart program with the following functionalities:\n",
    "\n",
    "# (X) Upon starting the program, initialize an empty list or dictionary to represent the shopping cart. \n",
    "# (X) Present a user-friendly menu that includes the following options:\n",
    "    # Allow users to add items to the shopping cart. \n",
    "        # For each item, prompt the user to input a name, quantity, and price. \n",
    "        # Store these details and add it to the shopping cart.\n",
    "    # Provide the ability to remove items from the shopping cart. \n",
    "        # Prompt the user to input the name of the item they wish to remove. \n",
    "        # Ensure to handle cases where the item is not found in the cart.\n",
    "    # Display the current contents of the shopping cart. \n",
    "        # Include the name, quantity, and price of each item, as well as a running total of the cost.\n",
    "    # Allow the user to exit the program. \n",
    "        #Upon quitting, print a summary of all items in the cart, including their details and the total cost.\n",
    "    # Implement a loop that continuously prompts the user for their choice until they decide to quit.\n",
    "    # Include appropriate error handling to deal with scenarios such as invalid input when adding or removing items.\n",
    "\n",
    "# Ensure that the program provides a clear and user-friendly experience. \n",
    "        # Include informative messages and prompts to guide the user through each step.\n",
    "# After the user quits, display a friendly closing message along with the final list of items \n",
    "    # in the cart and the total cost.\n",
    "    \n",
    "\n",
    "    # Extra Cred Ideas:\n",
    "    # - Apply Tax\n",
    "    # - Offer Menu of items \n",
    "    # - Pre-establish prices per item ? \n",
    "    \n",
    "# ==================================================\n",
    "\n",
    "# Address book ex\n",
    "\n",
    "# def address_book():\n",
    "#    print('Welcome to the Address Book!')\n",
    " #   book = {}\n",
    " #  menu_input = input('What would you like to do today? Add or Quit?')\n",
    "  \n",
    "    while menu_input != 'Quit':\n",
    "        name_input = input('Please add a name')\n",
    "        print(f'\\tYou added {name_input}.')\n",
    "        add_input = input('Please add an address')\n",
    "        print (f'\\tYou added {add_input} to {name_input}')\n",
    "        book[str(name_input)] = str(add_input)\n",
    "        menu_input = input('What would you like to do today? Add or Quit?')\n",
    "        if menu_input == 'Quit':\n",
    "            break\n",
    "        else:\n",
    "            print('Sorry, this is not a valid input.')\n",
    "        \n",
    "    print('\\nHere is the information in our address book.\\n')\n",
    "    for name, address in book.items():\n",
    "        print(name, address)\n",
    "        print('='*25)\n",
    "   \n",
    "    print('\\nThank you for using the Address Book!')\n",
    "\n",
    "    \n",
    "# for loop thru dict & unpacking pairs 'Show' \n",
    "#unpacking\n",
    "for name, address in d3.items():\n",
    "    print(name, ':', address)\n",
    "    \n",
    "             #need this somewhere   total_cost = float(cost)*float(amount)\n",
    "       # print(f\"{item.title()} x {amount} = ${dollar_amount:.2f}\")\n",
    "          #  total_cost = float(cost)*float(amount)\n",
    "         #   my_cart[item]:total_cost\n",
    "          #  main_menu = input('What would you like to do? Add, Remove, Show, Clear, or Quit?\\n')\n",
    "  #  print(my_cart)\n",
    "# for item in main_menu:\n",
    "                my_cart[item] = amount\n",
    "                    total_cost = float(cost)*float(amount)\n",
    "\n",
    "                    dollar_amount = float(total_cost)\n"
   ]
  },
  {
   "cell_type": "code",
   "execution_count": 131,
   "id": "dbeff9e7",
   "metadata": {},
   "outputs": [],
   "source": [
    "# MAIN FUNCTION/PROGRAM \n",
    "def open_shopping_cart():\n",
    "    print('Hello! Welcome to your shopping cart.\\n')\n",
    "    my_cart = dict()\n",
    "    \n",
    "    main_menu = input('What would you like to do? Add, Remove, Show, Clear, or Quit?\\n').lower()\n",
    "    while main_menu != 'quit':\n",
    "        if main_menu == 'add':\n",
    "           \n",
    "        if main_menu == 'remove':\n",
    "           \n",
    "        if main_menu == 'quit':\n",
    "\n",
    "        else: \n",
    "            print('***Please enter one of the available menu options.***\\n')\n",
    "            main_menu = input('What would you like to do? Add, Remove, Show, Clear, or Quit?\\n').lower()\n"
   ]
  },
  {
   "cell_type": "code",
   "execution_count": null,
   "id": "19f0965a",
   "metadata": {},
   "outputs": [],
   "source": [
    "# MAIN MENU \n",
    "\n"
   ]
  },
  {
   "cell_type": "code",
   "execution_count": 133,
   "id": "57b088fa",
   "metadata": {},
   "outputs": [],
   "source": [
    "# ADD FUNCTION\n",
    "\n",
    "def add(my_cart, *item):\n",
    "    item = input('What item are you adding?\\n').lower()\n",
    "    cost = input('What is the cost per item?\\n').lower()\n",
    "    amount = input('What is the quantity you are adding?\\n').lower()\n",
    "    my_cart['item'] = 'amount'\n",
    "    main_menu = input('What would you like to do? Add, Remove, Show, Clear, or Quit?\\n').lower()"
   ]
  },
  {
   "cell_type": "code",
   "execution_count": null,
   "id": "2184eb4b",
   "metadata": {},
   "outputs": [],
   "source": [
    "# REMOVE FUNCTION\n",
    "\n",
    "def remove(rm_item):\n",
    "    rm_item = input('Which item would you like to remove?').lower()\n",
    "    for item in my_cart.items():\n",
    "        if item == rm_item:\n",
    "            my_cart.pop('item')\n",
    "            print(f\"You have removed {item}.\")\n",
    "            main_menu = input('What would you like to do? Add, Remove, Show, Clear, or Quit?\\n').lower()\n",
    "        else:\n",
    "    print('That item is not in your cart. Please retry.')\n",
    "    main_menu = input('What would you like to do? Add, Remove, Show, Clear, or Quit?\\n').lower()"
   ]
  },
  {
   "cell_type": "code",
   "execution_count": null,
   "id": "89489b68",
   "metadata": {},
   "outputs": [],
   "source": [
    "# SHOW FUNCTION\n",
    "\n",
    "def show():"
   ]
  },
  {
   "cell_type": "code",
   "execution_count": null,
   "id": "ca4c4b17",
   "metadata": {},
   "outputs": [],
   "source": [
    "# CLEAR FUNCTION\n",
    "\n",
    "def clear():\n",
    "    "
   ]
  },
  {
   "cell_type": "code",
   "execution_count": null,
   "id": "4103905f",
   "metadata": {},
   "outputs": [],
   "source": [
    "# QUIT FUNCTION ?? \n",
    "\n",
    "def quit():\n",
    "    print('Here is your receipt. Thank you for using the Shopping Cart!')\n"
   ]
  }
 ],
 "metadata": {
  "kernelspec": {
   "display_name": "Python 3 (ipykernel)",
   "language": "python",
   "name": "python3"
  },
  "language_info": {
   "codemirror_mode": {
    "name": "ipython",
    "version": 3
   },
   "file_extension": ".py",
   "mimetype": "text/x-python",
   "name": "python",
   "nbconvert_exporter": "python",
   "pygments_lexer": "ipython3",
   "version": "3.11.5"
  }
 },
 "nbformat": 4,
 "nbformat_minor": 5
}
